{
 "cells": [
  {
   "cell_type": "markdown",
   "metadata": {},
   "source": [
    "# Settup Robot"
   ]
  },
  {
   "cell_type": "code",
   "execution_count": 2,
   "metadata": {},
   "outputs": [
    {
     "ename": "TecanError",
     "evalue": "('Subdevice error', 'C5', 28)",
     "output_type": "error",
     "traceback": [
      "\u001b[1;31m---------------------------------------------------------------------------\u001b[0m",
      "\u001b[1;31mTecanError\u001b[0m                                Traceback (most recent call last)",
      "Cell \u001b[1;32mIn[2], line 57\u001b[0m\n\u001b[0;32m     32\u001b[0m \u001b[38;5;28;01mfrom\u001b[39;00m \u001b[38;5;21;01mpylabrobot\u001b[39;00m\u001b[38;5;21;01m.\u001b[39;00m\u001b[38;5;21;01mresources\u001b[39;00m \u001b[38;5;28;01mimport\u001b[39;00m (\n\u001b[0;32m     33\u001b[0m   Wash_Station, \u001b[38;5;66;03m# wash station\u001b[39;00m\n\u001b[0;32m     34\u001b[0m   Wash_Station_Cleaner_shallow, \u001b[38;5;66;03m# labware on pos 1 on shash station\u001b[39;00m\n\u001b[1;32m   (...)\u001b[0m\n\u001b[0;32m     45\u001b[0m \n\u001b[0;32m     46\u001b[0m )\n\u001b[0;32m     49\u001b[0m \u001b[38;5;66;03m# wash_station_1 = Wash_Station(name='wash_station_1')\u001b[39;00m\n\u001b[0;32m     50\u001b[0m \u001b[38;5;66;03m# wash_station_2 = Wash_Station(name='wash_station_2')\u001b[39;00m\n\u001b[0;32m     51\u001b[0m \n\u001b[1;32m   (...)\u001b[0m\n\u001b[0;32m     54\u001b[0m \u001b[38;5;66;03m# lh.deck.assign_child_resource(wash_station_1, rails=14, replace=True)\u001b[39;00m\n\u001b[0;32m     55\u001b[0m \u001b[38;5;66;03m# lh.deck.assign_child_resource(wash_station_2, rails=38, replace=True)\u001b[39;00m\n\u001b[1;32m---> 57\u001b[0m \u001b[38;5;28;01mawait\u001b[39;00m lh\u001b[38;5;241m.\u001b[39msetup()\n\u001b[0;32m     60\u001b[0m \u001b[38;5;66;03m# add fixed tips to the\u001b[39;00m\n\u001b[0;32m     61\u001b[0m \u001b[38;5;66;03m# lh.head[0]._tip = standard_fixed_tip()\u001b[39;00m\n\u001b[0;32m     62\u001b[0m \u001b[38;5;66;03m# add fixed tips to all 8 channels on\u001b[39;00m\n\u001b[1;32m   (...)\u001b[0m\n\u001b[0;32m     65\u001b[0m \u001b[38;5;66;03m# # test to see what type of tips are attached head\u001b[39;00m\n\u001b[0;32m     66\u001b[0m \u001b[38;5;66;03m# lh.head\u001b[39;00m\n",
      "File \u001b[1;32m~\\OneDrive\\Dokumenter\\GitHub\\pylabrobot_DALSA\\pylabrobot\\liquid_handling\\liquid_handler.py:164\u001b[0m, in \u001b[0;36mLiquidHandler.setup\u001b[1;34m(self, **backend_kwargs)\u001b[0m\n\u001b[0;32m    161\u001b[0m   \u001b[38;5;28;01mraise\u001b[39;00m \u001b[38;5;167;01mRuntimeError\u001b[39;00m(\u001b[38;5;124m\"\u001b[39m\u001b[38;5;124mThe setup has already finished. See `LiquidHandler.stop`.\u001b[39m\u001b[38;5;124m\"\u001b[39m)\n\u001b[0;32m    163\u001b[0m \u001b[38;5;28mself\u001b[39m\u001b[38;5;241m.\u001b[39mbackend\u001b[38;5;241m.\u001b[39mset_deck(\u001b[38;5;28mself\u001b[39m\u001b[38;5;241m.\u001b[39mdeck)\n\u001b[1;32m--> 164\u001b[0m \u001b[38;5;28;01mawait\u001b[39;00m \u001b[38;5;28msuper\u001b[39m()\u001b[38;5;241m.\u001b[39msetup(\u001b[38;5;241m*\u001b[39m\u001b[38;5;241m*\u001b[39mbackend_kwargs)\n\u001b[0;32m    166\u001b[0m \u001b[38;5;28mself\u001b[39m\u001b[38;5;241m.\u001b[39mhead \u001b[38;5;241m=\u001b[39m {c: TipTracker(thing\u001b[38;5;241m=\u001b[39m\u001b[38;5;124mf\u001b[39m\u001b[38;5;124m\"\u001b[39m\u001b[38;5;124mChannel \u001b[39m\u001b[38;5;132;01m{\u001b[39;00mc\u001b[38;5;132;01m}\u001b[39;00m\u001b[38;5;124m\"\u001b[39m) \u001b[38;5;28;01mfor\u001b[39;00m c \u001b[38;5;129;01min\u001b[39;00m \u001b[38;5;28mrange\u001b[39m(\u001b[38;5;28mself\u001b[39m\u001b[38;5;241m.\u001b[39mbackend\u001b[38;5;241m.\u001b[39mnum_channels)}\n\u001b[0;32m    167\u001b[0m \u001b[38;5;28mself\u001b[39m\u001b[38;5;241m.\u001b[39mhead96 \u001b[38;5;241m=\u001b[39m {c: TipTracker(thing\u001b[38;5;241m=\u001b[39m\u001b[38;5;124mf\u001b[39m\u001b[38;5;124m\"\u001b[39m\u001b[38;5;124mChannel \u001b[39m\u001b[38;5;132;01m{\u001b[39;00mc\u001b[38;5;132;01m}\u001b[39;00m\u001b[38;5;124m\"\u001b[39m) \u001b[38;5;28;01mfor\u001b[39;00m c \u001b[38;5;129;01min\u001b[39;00m \u001b[38;5;28mrange\u001b[39m(\u001b[38;5;241m96\u001b[39m)}\n",
      "File \u001b[1;32m~\\OneDrive\\Dokumenter\\GitHub\\pylabrobot_DALSA\\pylabrobot\\machines\\machine.py:51\u001b[0m, in \u001b[0;36mMachine.setup\u001b[1;34m(self, **backend_kwargs)\u001b[0m\n\u001b[0;32m     50\u001b[0m \u001b[38;5;28;01masync\u001b[39;00m \u001b[38;5;28;01mdef\u001b[39;00m \u001b[38;5;21msetup\u001b[39m(\u001b[38;5;28mself\u001b[39m, \u001b[38;5;241m*\u001b[39m\u001b[38;5;241m*\u001b[39mbackend_kwargs):\n\u001b[1;32m---> 51\u001b[0m   \u001b[38;5;28;01mawait\u001b[39;00m \u001b[38;5;28mself\u001b[39m\u001b[38;5;241m.\u001b[39mbackend\u001b[38;5;241m.\u001b[39msetup(\u001b[38;5;241m*\u001b[39m\u001b[38;5;241m*\u001b[39mbackend_kwargs)\n\u001b[0;32m     52\u001b[0m   \u001b[38;5;28mself\u001b[39m\u001b[38;5;241m.\u001b[39m_setup_finished \u001b[38;5;241m=\u001b[39m \u001b[38;5;28;01mTrue\u001b[39;00m\n",
      "File \u001b[1;32m~\\OneDrive\\Dokumenter\\GitHub\\pylabrobot_DALSA\\pylabrobot\\liquid_handling\\backends\\tecan\\EVO.py:287\u001b[0m, in \u001b[0;36mEVO.setup\u001b[1;34m(self)\u001b[0m\n\u001b[0;32m    285\u001b[0m \u001b[38;5;28;01mawait\u001b[39;00m \u001b[38;5;28mself\u001b[39m\u001b[38;5;241m.\u001b[39mliha\u001b[38;5;241m.\u001b[39mset_z_travel_height([\u001b[38;5;28mself\u001b[39m\u001b[38;5;241m.\u001b[39m_z_range] \u001b[38;5;241m*\u001b[39m \u001b[38;5;28mself\u001b[39m\u001b[38;5;241m.\u001b[39mnum_channels)\n\u001b[0;32m    286\u001b[0m \u001b[38;5;28;01mawait\u001b[39;00m \u001b[38;5;28mself\u001b[39m\u001b[38;5;241m.\u001b[39mliha\u001b[38;5;241m.\u001b[39mposition_absolute_all_axis(\u001b[38;5;241m45\u001b[39m, \u001b[38;5;241m1031\u001b[39m, \u001b[38;5;241m90\u001b[39m, [\u001b[38;5;241m1200\u001b[39m] \u001b[38;5;241m*\u001b[39m \u001b[38;5;28mself\u001b[39m\u001b[38;5;241m.\u001b[39mnum_channels)\n\u001b[1;32m--> 287\u001b[0m \u001b[38;5;28;01mawait\u001b[39;00m \u001b[38;5;28mself\u001b[39m\u001b[38;5;241m.\u001b[39mliha\u001b[38;5;241m.\u001b[39minitialize_plunger(\u001b[38;5;28mself\u001b[39m\u001b[38;5;241m.\u001b[39m_bin_use_channels(\u001b[38;5;28mlist\u001b[39m(\u001b[38;5;28mrange\u001b[39m(\u001b[38;5;28mself\u001b[39m\u001b[38;5;241m.\u001b[39mnum_channels))))\n\u001b[0;32m    288\u001b[0m \u001b[38;5;28;01mawait\u001b[39;00m \u001b[38;5;28mself\u001b[39m\u001b[38;5;241m.\u001b[39mliha\u001b[38;5;241m.\u001b[39mposition_valve_logical([\u001b[38;5;241m1\u001b[39m] \u001b[38;5;241m*\u001b[39m \u001b[38;5;28mself\u001b[39m\u001b[38;5;241m.\u001b[39mnum_channels)\n\u001b[0;32m    289\u001b[0m \u001b[38;5;28;01mawait\u001b[39;00m \u001b[38;5;28mself\u001b[39m\u001b[38;5;241m.\u001b[39mliha\u001b[38;5;241m.\u001b[39mmove_plunger_relative([\u001b[38;5;241m100\u001b[39m] \u001b[38;5;241m*\u001b[39m \u001b[38;5;28mself\u001b[39m\u001b[38;5;241m.\u001b[39mnum_channels)\n",
      "File \u001b[1;32m~\\OneDrive\\Dokumenter\\GitHub\\pylabrobot_DALSA\\pylabrobot\\liquid_handling\\backends\\tecan\\EVO.py:873\u001b[0m, in \u001b[0;36mLiHa.initialize_plunger\u001b[1;34m(self, tips)\u001b[0m\n\u001b[0;32m    867\u001b[0m \u001b[38;5;28;01masync\u001b[39;00m \u001b[38;5;28;01mdef\u001b[39;00m \u001b[38;5;21minitialize_plunger\u001b[39m(\u001b[38;5;28mself\u001b[39m, tips):\n\u001b[0;32m    868\u001b[0m \u001b[38;5;250m  \u001b[39m\u001b[38;5;124;03m\"\"\"Initializes plunger and valve drive\u001b[39;00m\n\u001b[0;32m    869\u001b[0m \n\u001b[0;32m    870\u001b[0m \u001b[38;5;124;03m  Args:\u001b[39;00m\n\u001b[0;32m    871\u001b[0m \u001b[38;5;124;03m    tips: binary coded tip select\u001b[39;00m\n\u001b[0;32m    872\u001b[0m \u001b[38;5;124;03m  \"\"\"\u001b[39;00m\n\u001b[1;32m--> 873\u001b[0m   \u001b[38;5;28;01mawait\u001b[39;00m \u001b[38;5;28mself\u001b[39m\u001b[38;5;241m.\u001b[39mbackend\u001b[38;5;241m.\u001b[39msend_command(module\u001b[38;5;241m=\u001b[39m\u001b[38;5;28mself\u001b[39m\u001b[38;5;241m.\u001b[39mmodule, command\u001b[38;5;241m=\u001b[39m\u001b[38;5;124m\"\u001b[39m\u001b[38;5;124mPID\u001b[39m\u001b[38;5;124m\"\u001b[39m, params\u001b[38;5;241m=\u001b[39m[tips])\n",
      "File \u001b[1;32m~\\OneDrive\\Dokumenter\\GitHub\\pylabrobot_DALSA\\pylabrobot\\liquid_handling\\backends\\tecan\\EVO.py:157\u001b[0m, in \u001b[0;36mTecanLiquidHandler.send_command\u001b[1;34m(self, module, command, params, write_timeout, read_timeout, wait)\u001b[0m\n\u001b[0;32m    154\u001b[0m   \u001b[38;5;28;01mreturn\u001b[39;00m \u001b[38;5;28;01mNone\u001b[39;00m\n\u001b[0;32m    156\u001b[0m resp \u001b[38;5;241m=\u001b[39m \u001b[38;5;28mself\u001b[39m\u001b[38;5;241m.\u001b[39mread(timeout\u001b[38;5;241m=\u001b[39mread_timeout)\n\u001b[1;32m--> 157\u001b[0m \u001b[38;5;28;01mreturn\u001b[39;00m \u001b[38;5;28;43mself\u001b[39;49m\u001b[38;5;241;43m.\u001b[39;49m\u001b[43mparse_response\u001b[49m\u001b[43m(\u001b[49m\u001b[43mresp\u001b[49m\u001b[43m)\u001b[49m\n",
      "File \u001b[1;32m~\\OneDrive\\Dokumenter\\GitHub\\pylabrobot_DALSA\\pylabrobot\\liquid_handling\\backends\\tecan\\EVO.py:115\u001b[0m, in \u001b[0;36mTecanLiquidHandler.parse_response\u001b[1;34m(self, resp)\u001b[0m\n\u001b[0;32m    113\u001b[0m ret \u001b[38;5;241m=\u001b[39m \u001b[38;5;28mint\u001b[39m(resp[\u001b[38;5;241m3\u001b[39m]) \u001b[38;5;241m^\u001b[39m (\u001b[38;5;241m1\u001b[39m \u001b[38;5;241m<<\u001b[39m \u001b[38;5;241m7\u001b[39m)\n\u001b[0;32m    114\u001b[0m \u001b[38;5;28;01mif\u001b[39;00m ret \u001b[38;5;241m!=\u001b[39m \u001b[38;5;241m0\u001b[39m:\n\u001b[1;32m--> 115\u001b[0m   \u001b[38;5;28;01mraise\u001b[39;00m error_code_to_exception(module, ret)\n\u001b[0;32m    117\u001b[0m data: List[\u001b[38;5;28mint\u001b[39m] \u001b[38;5;241m=\u001b[39m [\u001b[38;5;28mint\u001b[39m(x) \u001b[38;5;28;01mfor\u001b[39;00m x \u001b[38;5;129;01min\u001b[39;00m s[\u001b[38;5;241m3\u001b[39m:\u001b[38;5;241m-\u001b[39m\u001b[38;5;241m1\u001b[39m]\u001b[38;5;241m.\u001b[39msplit(\u001b[38;5;124m\"\u001b[39m\u001b[38;5;124m,\u001b[39m\u001b[38;5;124m\"\u001b[39m) \u001b[38;5;28;01mif\u001b[39;00m x]\n\u001b[0;32m    118\u001b[0m \u001b[38;5;28;01mreturn\u001b[39;00m {\u001b[38;5;124m\"\u001b[39m\u001b[38;5;124mmodule\u001b[39m\u001b[38;5;124m\"\u001b[39m: module, \u001b[38;5;124m\"\u001b[39m\u001b[38;5;124mdata\u001b[39m\u001b[38;5;124m\"\u001b[39m: data}\n",
      "\u001b[1;31mTecanError\u001b[0m: ('Subdevice error', 'C5', 28)"
     ]
    }
   ],
   "source": [
    "simulate = False\n",
    "# simulate = True\n",
    "\n",
    "from pylabrobot.liquid_handling import LiquidHandler\n",
    "from pylabrobot.liquid_handling.backends import LiquidHandlerChatterboxBackend\n",
    "from pylabrobot.visualizer.visualizer import Visualizer\n",
    "# from pylabrobot.liquid_handling.backends import STAR\n",
    "# from pylabrobot.resources.hamilton import STARDeck\n",
    "## below incerted for TECAN\n",
    "from pylabrobot.liquid_handling.backends import EVO\n",
    "from pylabrobot.resources.tecan import EVO200Deck\n",
    "\n",
    "## Below unkown importance ??\n",
    "from pylabrobot.resources.trash import Trash\n",
    "from pylabrobot.resources.carrier import Coordinate\n",
    "\n",
    "\n",
    "\n",
    "if simulate:\n",
    "  # lh = LiquidHandler(backend=LiquidHandlerChatterboxBackend(), deck=EVO200Deck(wash_station_rail=15))\n",
    "  lh = LiquidHandler(backend=LiquidHandlerChatterboxBackend(), deck=EVO200Deck())\n",
    "  vis = Visualizer(resource=lh)\n",
    "else:\n",
    "  # backend = EVO(liha_arms=2)\n",
    "  # Enable both arms\n",
    "  # backend.setup_liha(0)  # Enable the first LiHa arm\n",
    "  # backend.setup_liha(1)  # Enable the second LiHa arm\n",
    "  backend = EVO()\n",
    "  lh = LiquidHandler(backend=backend, deck=EVO200Deck())\n",
    "\n",
    "# labware resources:\n",
    "from pylabrobot.resources import (\n",
    "  Wash_Station, # wash station\n",
    "  Wash_Station_Cleaner_shallow, # labware on pos 1 on shash station\n",
    "  Wash_Station_Waste, # labware on pos 2\n",
    "  Wash_Station_Cleaner_shallow, # labware on pos 3 on shash station\n",
    "  MP_3Pos,\n",
    "  MP_3Pos_Flat,\n",
    "  MP_4Pos,\n",
    "  # STF_L, # standard volume 300ul tips with filter\n",
    "  corning_96_wellplate_360ul_flat, # OT plate type\n",
    "  Cos_96_FL, # corning alternative to OT plate\n",
    "\n",
    "  standard_fixed_tip, # import fixed tips\n",
    "\n",
    ")\n",
    "\n",
    "\n",
    "# wash_station_1 = Wash_Station(name='wash_station_1')\n",
    "# wash_station_2 = Wash_Station(name='wash_station_2')\n",
    "\n",
    "\n",
    "# # as washstation is allready defined on position rails=1 i need to redefine it.\n",
    "# lh.deck.assign_child_resource(wash_station_1, rails=14, replace=True)\n",
    "# lh.deck.assign_child_resource(wash_station_2, rails=38, replace=True)\n",
    "\n",
    "await lh.setup()\n",
    "\n",
    "\n",
    "# add fixed tips to the\n",
    "# lh.head[0]._tip = standard_fixed_tip()\n",
    "# add fixed tips to all 8 channels on\n",
    "# for i in range(lh.backend.num_channels):\n",
    "#   lh.head[i]._tip = standard_fixed_tip()\n",
    "# # test to see what type of tips are attached head\n",
    "# lh.head"
   ]
  },
  {
   "cell_type": "code",
   "execution_count": null,
   "metadata": {},
   "outputs": [],
   "source": []
  },
  {
   "cell_type": "code",
   "execution_count": null,
   "metadata": {},
   "outputs": [],
   "source": []
  },
  {
   "cell_type": "code",
   "execution_count": 2,
   "metadata": {},
   "outputs": [],
   "source": [
    "wash_station_1 = Wash_Station(name='wash_station_1')\n",
    "wash_station_2 = Wash_Station(name='wash_station_2')"
   ]
  },
  {
   "cell_type": "code",
   "execution_count": 3,
   "metadata": {},
   "outputs": [],
   "source": [
    "# # as washstation is allready defined on position rails=1 i need to redefine it.\n",
    "# lh.deck.assign_child_resource(wash_station_1, rails=14, replace=True)\n",
    "# lh.deck.assign_child_resource(wash_station_2, rails=38, replace=True)\n",
    "\n",
    "\n",
    "lh.deck.assign_child_resource(wash_station_1, rails=8, replace=True)"
   ]
  },
  {
   "cell_type": "code",
   "execution_count": null,
   "metadata": {},
   "outputs": [],
   "source": [
    "\n",
    "if simulate:\n",
    "  await vis.setup()\n",
    "\n"
   ]
  },
  {
   "cell_type": "code",
   "execution_count": 4,
   "metadata": {},
   "outputs": [],
   "source": [
    "\n",
    "# labware resources:\n",
    "from pylabrobot.resources import (\n",
    "  MP_3Pos,\n",
    "  Microplate_96_Well, # Tecan plate\n",
    ")\n",
    "\n",
    "## there are no tube runners in PLR yet.\n",
    "\n",
    "# TO ADD\n",
    "# - reservours\n",
    "# - Trash\n",
    "# - Hotels\n",
    "# - hotel trash cooler thing\n",
    "\n",
    "\n",
    "# trash = lh.deck.get_trash_area() # only needed if trash needs to be used explicitly\n"
   ]
  },
  {
   "cell_type": "markdown",
   "metadata": {},
   "source": [
    "# Upload deck configuration for EVO B223"
   ]
  },
  {
   "cell_type": "code",
   "execution_count": 6,
   "metadata": {},
   "outputs": [],
   "source": [
    "# # USE direct path to directory\n",
    "# import sys\n",
    "# import os\n",
    "# script_dir = os.path.abspath(\"docs/vilhelms_scripts\")\n",
    "\n",
    "# # Add the directory to sys.path\n",
    "# if script_dir not in sys.path:\n",
    "#     sys.path.append(script_dir)\n",
    "\n",
    "# # import deck specs for Hamilton in building 223 room 032\n",
    "# from tecan_evo_B223 import ...."
   ]
  },
  {
   "cell_type": "code",
   "execution_count": 5,
   "metadata": {},
   "outputs": [],
   "source": [
    "wash_station_1 = Wash_Station(name='wash_station')\n",
    "wash_station_2 = Wash_Station(name='wash_station')\n",
    "mp_3pos_1 = MP_3Pos(name='mp_3pos_1')\n",
    "# mp_3pos_2 = MP_3Pos(name='mp_3pos_2')\n",
    "# mp_3pos_3 = MP_3Pos(name='mp_3pos_3')\n",
    "# mp_3pos_4 = MP_3Pos(name='mp_3pos_4')\n",
    "\n",
    "\n",
    "\n"
   ]
  },
  {
   "cell_type": "code",
   "execution_count": 8,
   "metadata": {},
   "outputs": [],
   "source": [
    "# as washstation is allready defined on position rails=1 i need to redefine it.\n",
    "# lh.deck.assign_child_resource(wash_station_1, rails=14, replace=True)"
   ]
  },
  {
   "cell_type": "code",
   "execution_count": 6,
   "metadata": {},
   "outputs": [
    {
     "name": "stdout",
     "output_type": "stream",
     "text": [
      "Rail     Resource                   Type                Coordinates (mm)\n",
      "===============================================================================================\n",
      "(1)  ├── wash_station               TecanWashStation    (087.500, -20.300, 000.000)\n",
      "     │   ├── wash_clean_deep        Trash               (099.700, 086.400, 000.000)\n",
      "     │   ├── wash_waste             Trash               (098.500, 160.400, 000.000)\n",
      "     │   ├── wash_clean_shallow     Trash               (099.700, 261.400, 000.000)\n",
      "     │\n",
      "(8)  ├── wash_station_1             TecanWashStation    (262.500, -20.300, 000.000)\n",
      "     │   ├── <empty>\n",
      "     │   ├── <empty>\n",
      "     │   ├── <empty>\n",
      "\n"
     ]
    }
   ],
   "source": [
    "print(lh.deck.summary())\n"
   ]
  },
  {
   "cell_type": "markdown",
   "metadata": {},
   "source": [
    "# Add Labware"
   ]
  },
  {
   "cell_type": "code",
   "execution_count": 7,
   "metadata": {},
   "outputs": [],
   "source": [
    "# tip_car[0] = TIP_50ul_w_filter_L(name='tips_01_50ul') # for TIP_CAR_480_A00\n",
    "# tip_car[1] = TIP_50ul_w_filter_L(name='tips_02_50ul') # for TIP_CAR_480_A00\n",
    "# tip_car[2] = TIP_50ul_w_filter_L(name='tips_03_50ul') # for TIP_CAR_480_A00\n",
    "\n",
    "# tip_car_mfx[0] = STF_L(name='tips_01_300ul') # for MFX\n",
    "# tip_car_mfx[1] = STF_L(name='tips_02_300ul') # for MFX\n",
    "# tip_car_mfx[2] = HT_L(name='tips_01_1000ul') # for MFX\n",
    "# tip_car_mfx[3] = HT_L(name='tips_02_1000ul') # for MFX\n",
    "# tip_car_mfx[4] = HT_L(name='tips_03_1000ul') # for MFX\n",
    "\n",
    "\n",
    "# ## Test on cooler\n",
    "# # cooler_carrier1[1] = Cos_96_FL(name='source_1')\n",
    "# # cooler_carrier1[2] = Cos_96_FL(name='source_2')\n",
    "# # cooler_carrier1[3] = Cos_96_FL(name='source_3')\n",
    "# # cooler_carrier1[4] = Cos_96_FL(name='source_4')\n",
    "# # cooler_carrier2[4] = Cos_96_FL(name='dist1')\n",
    "\n",
    "# cooler_carrier1[3] = corning_96_wellplate_360ul_flat(name='source_3')\n",
    "# cooler_carrier1[4] = corning_96_wellplate_360ul_flat(name='source_4')\n",
    "# cooler_carrier2[4] = corning_96_wellplate_360ul_flat(name='dist1')\n",
    "\n",
    "mp_3pos_1[1] = Microplate_96_Well(name='source_1')"
   ]
  },
  {
   "cell_type": "code",
   "execution_count": 8,
   "metadata": {},
   "outputs": [],
   "source": [
    "lh.deck.assign_child_resource(mp_3pos_1, rails=10, replace=True)"
   ]
  },
  {
   "cell_type": "code",
   "execution_count": 9,
   "metadata": {},
   "outputs": [],
   "source": [
    "source1 = lh.get_resource('source_1')"
   ]
  },
  {
   "cell_type": "code",
   "execution_count": 10,
   "metadata": {},
   "outputs": [
    {
     "name": "stdout",
     "output_type": "stream",
     "text": [
      "Rail     Resource                   Type                Coordinates (mm)\n",
      "===============================================================================================\n",
      "(1)  ├── wash_station               TecanWashStation    (087.500, -20.300, 000.000)\n",
      "     │   ├── wash_clean_deep        Trash               (099.700, 086.400, 000.000)\n",
      "     │   ├── wash_waste             Trash               (098.500, 160.400, 000.000)\n",
      "     │   ├── wash_clean_shallow     Trash               (099.700, 261.400, 000.000)\n",
      "     │\n",
      "(8)  ├── wash_station_1             TecanWashStation    (262.500, -20.300, 000.000)\n",
      "     │   ├── <empty>\n",
      "     │   ├── <empty>\n",
      "     │   ├── <empty>\n",
      "     │\n",
      "(10) ├── mp_3pos_1                  TecanPlateCarrier   (313.000, 053.700, 000.000)\n",
      "     │   ├── <empty>\n",
      "     │   ├── source_1               TecanPlate          (335.500, 238.300, 062.500)\n",
      "     │   ├── <empty>\n",
      "\n"
     ]
    }
   ],
   "source": [
    "print(lh.deck.summary())"
   ]
  },
  {
   "cell_type": "code",
   "execution_count": 14,
   "metadata": {},
   "outputs": [],
   "source": [
    "# try to switch LLD off (liquid level detection)\n",
    "# lh.head[0]._tip = standard_fixed_tip()\n",
    "# add fixed tips to all 8 channels on\n",
    "# for i in range(lh.backend.num_channels):\n",
    "\n",
    "# lh.head.set_detection_mode('OFF')\n",
    "# set_detection_mode\n",
    "# detproc = tlc.lld_mode\n",
    "\n",
    "# await lh.aspirate(\n",
    "#     ops=[\n",
    "#         Aspiration(\n",
    "#             volume=100,  # Volume to aspirate in µL\n",
    "#             liquids=[(Liquid.WATER, 100)],  # Liquid type and volume pairs\n",
    "#             resource=source1[\"A1\"],  # Well or container to aspirate from\n",
    "#             # tip=some_tip,  # Tip configuration\n",
    "#         )\n",
    "#     ],\n",
    "#     use_channels=[0, 1],  # Use channels 0 and 1 for aspiration\n",
    "# )\n",
    "\n",
    "\n",
    "\n",
    "# await lh.dispense(dist1[\"A1\"], vols=[20.0]) # swap_speed=100, homogenization_speed=1000, mix_speed=1000"
   ]
  },
  {
   "cell_type": "code",
   "execution_count": 12,
   "metadata": {},
   "outputs": [
    {
     "ename": "TecanError",
     "evalue": "('No liquid detected', 'C5', 9)",
     "output_type": "error",
     "traceback": [
      "\u001b[1;31m---------------------------------------------------------------------------\u001b[0m",
      "\u001b[1;31mTecanError\u001b[0m                                Traceback (most recent call last)",
      "Cell \u001b[1;32mIn[12], line 2\u001b[0m\n\u001b[0;32m      1\u001b[0m offset \u001b[38;5;241m=\u001b[39m [Coordinate(\u001b[38;5;241m0\u001b[39m, \u001b[38;5;241m0\u001b[39m, \u001b[38;5;241m0\u001b[39m)] \u001b[38;5;66;03m#2\u001b[39;00m\n\u001b[1;32m----> 2\u001b[0m \u001b[38;5;28;01mawait\u001b[39;00m lh\u001b[38;5;241m.\u001b[39maspirate(source1[\u001b[38;5;124m\"\u001b[39m\u001b[38;5;124mA1\u001b[39m\u001b[38;5;124m\"\u001b[39m], vols\u001b[38;5;241m=\u001b[39m[\u001b[38;5;241m20.0\u001b[39m], offsets\u001b[38;5;241m=\u001b[39moffset) \u001b[38;5;66;03m# , swap_speed=100, homogenization_speed=1000\u001b[39;00m\n\u001b[0;32m      4\u001b[0m \u001b[38;5;66;03m# await lh.aspirate(\u001b[39;00m\n\u001b[0;32m      5\u001b[0m \u001b[38;5;66;03m#     ops=[\u001b[39;00m\n\u001b[0;32m      6\u001b[0m \u001b[38;5;66;03m#         Aspiration(\u001b[39;00m\n\u001b[1;32m   (...)\u001b[0m\n\u001b[0;32m     17\u001b[0m \n\u001b[0;32m     18\u001b[0m \u001b[38;5;66;03m# await lh.dispense(dist1[\"A1\"], vols=[20.0]) # swap_speed=100, homogenization_speed=1000, mix_speed=1000\u001b[39;00m\n",
      "File \u001b[1;32m~\\OneDrive\\Dokumenter\\GitHub\\pylabrobot_DALSA\\pylabrobot\\machines\\machine.py:23\u001b[0m, in \u001b[0;36mneed_setup_finished.<locals>.wrapper\u001b[1;34m(self, *args, **kwargs)\u001b[0m\n\u001b[0;32m     21\u001b[0m \u001b[38;5;28;01mif\u001b[39;00m \u001b[38;5;129;01mnot\u001b[39;00m \u001b[38;5;28mself\u001b[39m\u001b[38;5;241m.\u001b[39msetup_finished:\n\u001b[0;32m     22\u001b[0m   \u001b[38;5;28;01mraise\u001b[39;00m \u001b[38;5;167;01mRuntimeError\u001b[39;00m(\u001b[38;5;124m\"\u001b[39m\u001b[38;5;124mThe setup has not finished. See `setup`.\u001b[39m\u001b[38;5;124m\"\u001b[39m)\n\u001b[1;32m---> 23\u001b[0m \u001b[38;5;28;01mreturn\u001b[39;00m \u001b[38;5;28;01mawait\u001b[39;00m func(\u001b[38;5;28mself\u001b[39m, \u001b[38;5;241m*\u001b[39margs, \u001b[38;5;241m*\u001b[39m\u001b[38;5;241m*\u001b[39mkwargs)\n",
      "File \u001b[1;32m~\\OneDrive\\Dokumenter\\GitHub\\pylabrobot_DALSA\\pylabrobot\\liquid_handling\\liquid_handler.py:860\u001b[0m, in \u001b[0;36mLiquidHandler.aspirate\u001b[1;34m(self, resources, vols, use_channels, flow_rates, offsets, liquid_height, blow_out_air_volume, **backend_kwargs)\u001b[0m\n\u001b[0;32m    857\u001b[0m     (\u001b[38;5;28mself\u001b[39m\u001b[38;5;241m.\u001b[39mhead[channel]\u001b[38;5;241m.\u001b[39mget_tip()\u001b[38;5;241m.\u001b[39mtracker\u001b[38;5;241m.\u001b[39mcommit \u001b[38;5;28;01mif\u001b[39;00m success \u001b[38;5;28;01melse\u001b[39;00m \u001b[38;5;28mself\u001b[39m\u001b[38;5;241m.\u001b[39mhead[channel]\u001b[38;5;241m.\u001b[39mrollback)()\n\u001b[0;32m    859\u001b[0m \u001b[38;5;66;03m# trigger callback\u001b[39;00m\n\u001b[1;32m--> 860\u001b[0m \u001b[38;5;28;43mself\u001b[39;49m\u001b[38;5;241;43m.\u001b[39;49m\u001b[43m_trigger_callback\u001b[49m\u001b[43m(\u001b[49m\n\u001b[0;32m    861\u001b[0m \u001b[43m  \u001b[49m\u001b[38;5;124;43m\"\u001b[39;49m\u001b[38;5;124;43maspirate\u001b[39;49m\u001b[38;5;124;43m\"\u001b[39;49m\u001b[43m,\u001b[49m\n\u001b[0;32m    862\u001b[0m \u001b[43m  \u001b[49m\u001b[43mliquid_handler\u001b[49m\u001b[38;5;241;43m=\u001b[39;49m\u001b[38;5;28;43mself\u001b[39;49m\u001b[43m,\u001b[49m\n\u001b[0;32m    863\u001b[0m \u001b[43m  \u001b[49m\u001b[43moperations\u001b[49m\u001b[38;5;241;43m=\u001b[39;49m\u001b[43maspirations\u001b[49m\u001b[43m,\u001b[49m\n\u001b[0;32m    864\u001b[0m \u001b[43m  \u001b[49m\u001b[43muse_channels\u001b[49m\u001b[38;5;241;43m=\u001b[39;49m\u001b[43muse_channels\u001b[49m\u001b[43m,\u001b[49m\n\u001b[0;32m    865\u001b[0m \u001b[43m  \u001b[49m\u001b[43merror\u001b[49m\u001b[38;5;241;43m=\u001b[39;49m\u001b[43merror\u001b[49m\u001b[43m,\u001b[49m\n\u001b[0;32m    866\u001b[0m \u001b[43m  \u001b[49m\u001b[38;5;241;43m*\u001b[39;49m\u001b[38;5;241;43m*\u001b[39;49m\u001b[43mbackend_kwargs\u001b[49m\u001b[43m,\u001b[49m\n\u001b[0;32m    867\u001b[0m \u001b[43m\u001b[49m\u001b[43m)\u001b[49m\n",
      "File \u001b[1;32m~\\OneDrive\\Dokumenter\\GitHub\\pylabrobot_DALSA\\pylabrobot\\liquid_handling\\liquid_handler.py:1976\u001b[0m, in \u001b[0;36mLiquidHandler._trigger_callback\u001b[1;34m(self, method_name, error, *args, **kwargs)\u001b[0m\n\u001b[0;32m   1974\u001b[0m   callback(\u001b[38;5;28mself\u001b[39m, \u001b[38;5;241m*\u001b[39margs, error\u001b[38;5;241m=\u001b[39merror, \u001b[38;5;241m*\u001b[39m\u001b[38;5;241m*\u001b[39mkwargs)\n\u001b[0;32m   1975\u001b[0m \u001b[38;5;28;01melif\u001b[39;00m error \u001b[38;5;129;01mis\u001b[39;00m \u001b[38;5;129;01mnot\u001b[39;00m \u001b[38;5;28;01mNone\u001b[39;00m:\n\u001b[1;32m-> 1976\u001b[0m   \u001b[38;5;28;01mraise\u001b[39;00m error\n",
      "File \u001b[1;32m~\\OneDrive\\Dokumenter\\GitHub\\pylabrobot_DALSA\\pylabrobot\\liquid_handling\\liquid_handler.py:843\u001b[0m, in \u001b[0;36mLiquidHandler.aspirate\u001b[1;34m(self, resources, vols, use_channels, flow_rates, offsets, liquid_height, blow_out_air_volume, **backend_kwargs)\u001b[0m\n\u001b[0;32m    841\u001b[0m error: Optional[\u001b[38;5;167;01mException\u001b[39;00m] \u001b[38;5;241m=\u001b[39m \u001b[38;5;28;01mNone\u001b[39;00m\n\u001b[0;32m    842\u001b[0m \u001b[38;5;28;01mtry\u001b[39;00m:\n\u001b[1;32m--> 843\u001b[0m   \u001b[38;5;28;01mawait\u001b[39;00m \u001b[38;5;28mself\u001b[39m\u001b[38;5;241m.\u001b[39mbackend\u001b[38;5;241m.\u001b[39maspirate(ops\u001b[38;5;241m=\u001b[39maspirations, use_channels\u001b[38;5;241m=\u001b[39muse_channels, \u001b[38;5;241m*\u001b[39m\u001b[38;5;241m*\u001b[39mbackend_kwargs)\n\u001b[0;32m    844\u001b[0m \u001b[38;5;28;01mexcept\u001b[39;00m \u001b[38;5;167;01mException\u001b[39;00m \u001b[38;5;28;01mas\u001b[39;00m e:\n\u001b[0;32m    845\u001b[0m   error \u001b[38;5;241m=\u001b[39m e\n",
      "File \u001b[1;32m~\\OneDrive\\Dokumenter\\GitHub\\pylabrobot_DALSA\\pylabrobot\\liquid_handling\\backends\\tecan\\EVO.py:386\u001b[0m, in \u001b[0;36mEVO.aspirate\u001b[1;34m(self, ops, use_channels)\u001b[0m\n\u001b[0;32m    384\u001b[0m   shz \u001b[38;5;241m=\u001b[39m [\u001b[38;5;28mmin\u001b[39m(z \u001b[38;5;28;01mfor\u001b[39;00m z \u001b[38;5;129;01min\u001b[39;00m z_positions[\u001b[38;5;124m\"\u001b[39m\u001b[38;5;124mtravel\u001b[39m\u001b[38;5;124m\"\u001b[39m] \u001b[38;5;28;01mif\u001b[39;00m z)] \u001b[38;5;241m*\u001b[39m \u001b[38;5;28mself\u001b[39m\u001b[38;5;241m.\u001b[39mnum_channels\n\u001b[0;32m    385\u001b[0m   \u001b[38;5;28;01mawait\u001b[39;00m \u001b[38;5;28mself\u001b[39m\u001b[38;5;241m.\u001b[39mliha\u001b[38;5;241m.\u001b[39mset_z_travel_height(shz)\n\u001b[1;32m--> 386\u001b[0m   \u001b[38;5;28;01mawait\u001b[39;00m \u001b[38;5;28mself\u001b[39m\u001b[38;5;241m.\u001b[39mliha\u001b[38;5;241m.\u001b[39mmove_detect_liquid(\u001b[38;5;28mself\u001b[39m\u001b[38;5;241m.\u001b[39m_bin_use_channels(use_channels), zadd)\n\u001b[0;32m    387\u001b[0m   \u001b[38;5;28;01mawait\u001b[39;00m \u001b[38;5;28mself\u001b[39m\u001b[38;5;241m.\u001b[39mliha\u001b[38;5;241m.\u001b[39mset_z_travel_height([\u001b[38;5;28mself\u001b[39m\u001b[38;5;241m.\u001b[39m_z_range] \u001b[38;5;241m*\u001b[39m \u001b[38;5;28mself\u001b[39m\u001b[38;5;241m.\u001b[39mnum_channels)\n\u001b[0;32m    389\u001b[0m \u001b[38;5;66;03m# aspirate + retract\u001b[39;00m\n\u001b[0;32m    390\u001b[0m \u001b[38;5;66;03m# SSZ: z_add / (vol / asp_speed)\u001b[39;00m\n",
      "File \u001b[1;32m~\\OneDrive\\Dokumenter\\GitHub\\pylabrobot_DALSA\\pylabrobot\\liquid_handling\\backends\\tecan\\EVO.py:1029\u001b[0m, in \u001b[0;36mLiHa.move_detect_liquid\u001b[1;34m(self, channels, zadd)\u001b[0m\n\u001b[0;32m   1020\u001b[0m \u001b[38;5;28;01masync\u001b[39;00m \u001b[38;5;28;01mdef\u001b[39;00m \u001b[38;5;21mmove_detect_liquid\u001b[39m(\u001b[38;5;28mself\u001b[39m, channels: \u001b[38;5;28mint\u001b[39m, zadd: List[Optional[\u001b[38;5;28mint\u001b[39m]]):\n\u001b[0;32m   1021\u001b[0m \u001b[38;5;250m  \u001b[39m\u001b[38;5;124;03m\"\"\"Move tip, detect liquid, submerge.\u001b[39;00m\n\u001b[0;32m   1022\u001b[0m \n\u001b[0;32m   1023\u001b[0m \u001b[38;5;124;03m  Args:\u001b[39;00m\n\u001b[1;32m   (...)\u001b[0m\n\u001b[0;32m   1026\u001b[0m \u001b[38;5;124;03m          must be between 0 and z-start - z-max\u001b[39;00m\n\u001b[0;32m   1027\u001b[0m \u001b[38;5;124;03m  \"\"\"\u001b[39;00m\n\u001b[1;32m-> 1029\u001b[0m   \u001b[38;5;28;01mawait\u001b[39;00m \u001b[38;5;28mself\u001b[39m\u001b[38;5;241m.\u001b[39mbackend\u001b[38;5;241m.\u001b[39msend_command(\n\u001b[0;32m   1030\u001b[0m     module\u001b[38;5;241m=\u001b[39m\u001b[38;5;28mself\u001b[39m\u001b[38;5;241m.\u001b[39mmodule,\n\u001b[0;32m   1031\u001b[0m     command\u001b[38;5;241m=\u001b[39m\u001b[38;5;124m\"\u001b[39m\u001b[38;5;124mMDT\u001b[39m\u001b[38;5;124m\"\u001b[39m,\n\u001b[0;32m   1032\u001b[0m     params\u001b[38;5;241m=\u001b[39m[channels] \u001b[38;5;241m+\u001b[39m [\u001b[38;5;28;01mNone\u001b[39;00m] \u001b[38;5;241m*\u001b[39m \u001b[38;5;241m3\u001b[39m \u001b[38;5;241m+\u001b[39m zadd,\n\u001b[0;32m   1033\u001b[0m   )\n",
      "File \u001b[1;32m~\\OneDrive\\Dokumenter\\GitHub\\pylabrobot_DALSA\\pylabrobot\\liquid_handling\\backends\\tecan\\EVO.py:157\u001b[0m, in \u001b[0;36mTecanLiquidHandler.send_command\u001b[1;34m(self, module, command, params, write_timeout, read_timeout, wait)\u001b[0m\n\u001b[0;32m    154\u001b[0m   \u001b[38;5;28;01mreturn\u001b[39;00m \u001b[38;5;28;01mNone\u001b[39;00m\n\u001b[0;32m    156\u001b[0m resp \u001b[38;5;241m=\u001b[39m \u001b[38;5;28mself\u001b[39m\u001b[38;5;241m.\u001b[39mread(timeout\u001b[38;5;241m=\u001b[39mread_timeout)\n\u001b[1;32m--> 157\u001b[0m \u001b[38;5;28;01mreturn\u001b[39;00m \u001b[38;5;28;43mself\u001b[39;49m\u001b[38;5;241;43m.\u001b[39;49m\u001b[43mparse_response\u001b[49m\u001b[43m(\u001b[49m\u001b[43mresp\u001b[49m\u001b[43m)\u001b[49m\n",
      "File \u001b[1;32m~\\OneDrive\\Dokumenter\\GitHub\\pylabrobot_DALSA\\pylabrobot\\liquid_handling\\backends\\tecan\\EVO.py:115\u001b[0m, in \u001b[0;36mTecanLiquidHandler.parse_response\u001b[1;34m(self, resp)\u001b[0m\n\u001b[0;32m    113\u001b[0m ret \u001b[38;5;241m=\u001b[39m \u001b[38;5;28mint\u001b[39m(resp[\u001b[38;5;241m3\u001b[39m]) \u001b[38;5;241m^\u001b[39m (\u001b[38;5;241m1\u001b[39m \u001b[38;5;241m<<\u001b[39m \u001b[38;5;241m7\u001b[39m)\n\u001b[0;32m    114\u001b[0m \u001b[38;5;28;01mif\u001b[39;00m ret \u001b[38;5;241m!=\u001b[39m \u001b[38;5;241m0\u001b[39m:\n\u001b[1;32m--> 115\u001b[0m   \u001b[38;5;28;01mraise\u001b[39;00m error_code_to_exception(module, ret)\n\u001b[0;32m    117\u001b[0m data: List[\u001b[38;5;28mint\u001b[39m] \u001b[38;5;241m=\u001b[39m [\u001b[38;5;28mint\u001b[39m(x) \u001b[38;5;28;01mfor\u001b[39;00m x \u001b[38;5;129;01min\u001b[39;00m s[\u001b[38;5;241m3\u001b[39m:\u001b[38;5;241m-\u001b[39m\u001b[38;5;241m1\u001b[39m]\u001b[38;5;241m.\u001b[39msplit(\u001b[38;5;124m\"\u001b[39m\u001b[38;5;124m,\u001b[39m\u001b[38;5;124m\"\u001b[39m) \u001b[38;5;28;01mif\u001b[39;00m x]\n\u001b[0;32m    118\u001b[0m \u001b[38;5;28;01mreturn\u001b[39;00m {\u001b[38;5;124m\"\u001b[39m\u001b[38;5;124mmodule\u001b[39m\u001b[38;5;124m\"\u001b[39m: module, \u001b[38;5;124m\"\u001b[39m\u001b[38;5;124mdata\u001b[39m\u001b[38;5;124m\"\u001b[39m: data}\n",
      "\u001b[1;31mTecanError\u001b[0m: ('No liquid detected', 'C5', 9)"
     ]
    }
   ],
   "source": [
    "offset = [Coordinate(0, 0, 0)] #2\n",
    "await lh.aspirate(source1[\"A1\"], vols=[20.0], offsets=offset) # , swap_speed=100, homogenization_speed=1000\n"
   ]
  },
  {
   "cell_type": "code",
   "execution_count": 13,
   "metadata": {},
   "outputs": [
    {
     "ename": "AttributeError",
     "evalue": "'LiquidHandler' object has no attribute 'get_z_position'",
     "output_type": "error",
     "traceback": [
      "\u001b[1;31m---------------------------------------------------------------------------\u001b[0m",
      "\u001b[1;31mAttributeError\u001b[0m                            Traceback (most recent call last)",
      "Cell \u001b[1;32mIn[13], line 1\u001b[0m\n\u001b[1;32m----> 1\u001b[0m \u001b[38;5;28;01mawait\u001b[39;00m \u001b[43mlh\u001b[49m\u001b[38;5;241;43m.\u001b[39;49m\u001b[43mget_z_position\u001b[49m()\n",
      "\u001b[1;31mAttributeError\u001b[0m: 'LiquidHandler' object has no attribute 'get_z_position'"
     ]
    }
   ],
   "source": [
    "await lh.get_z_position()"
   ]
  },
  {
   "cell_type": "code",
   "execution_count": null,
   "metadata": {},
   "outputs": [],
   "source": []
  }
 ],
 "metadata": {
  "kernelspec": {
   "display_name": ".venv",
   "language": "python",
   "name": "python3"
  },
  "language_info": {
   "codemirror_mode": {
    "name": "ipython",
    "version": 3
   },
   "file_extension": ".py",
   "mimetype": "text/x-python",
   "name": "python",
   "nbconvert_exporter": "python",
   "pygments_lexer": "ipython3",
   "version": "3.11.9"
  }
 },
 "nbformat": 4,
 "nbformat_minor": 2
}
