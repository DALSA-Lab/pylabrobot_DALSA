{
 "cells": [
  {
   "cell_type": "markdown",
   "metadata": {},
   "source": [
    "# Test mettler toledo scale/wheigt in PLR"
   ]
  },
  {
   "cell_type": "markdown",
   "metadata": {},
   "source": [
    "use guide: https://docs.pylabrobot.org/user_guide/scales.html\n"
   ]
  },
  {
   "cell_type": "code",
   "execution_count": 1,
   "metadata": {},
   "outputs": [],
   "source": [
    "from pylabrobot.scales import Scale\n",
    "from pylabrobot.scales.mettler_toledo import MettlerToledoWXS205SDU"
   ]
  },
  {
   "cell_type": "code",
   "execution_count": 2,
   "metadata": {},
   "outputs": [],
   "source": [
    "# backend = MettlerToledoWXS205SDU(port=\"/dev/cu.usbserial-110\")  # take any ScaleBackend you want\n",
    "backend = MettlerToledoWXS205SDU(port=\"COM12\")  # Update to your scale's COM port\n",
    "scale = Scale(name='test', backend=backend, size_x=0, size_y=0, size_z=0)\n",
    "await scale.setup()\n"
   ]
  },
  {
   "cell_type": "code",
   "execution_count": 4,
   "metadata": {},
   "outputs": [
    {
     "data": {
      "text/plain": [
       "-1.7e-05"
      ]
     },
     "execution_count": 4,
     "metadata": {},
     "output_type": "execute_result"
    }
   ],
   "source": [
    "await scale.get_weight(timeout=\"stable\")"
   ]
  },
  {
   "cell_type": "code",
   "execution_count": 3,
   "metadata": {},
   "outputs": [
    {
     "data": {
      "text/plain": [
       "-3e-05"
      ]
     },
     "execution_count": 3,
     "metadata": {},
     "output_type": "execute_result"
    }
   ],
   "source": [
    "await scale.get_weight(timeout=0)"
   ]
  },
  {
   "cell_type": "code",
   "execution_count": null,
   "metadata": {},
   "outputs": [],
   "source": [
    "import time\n",
    "\n",
    "for i in range(10):\n",
    "  await scale.get_weight(timeout=0)\n",
    "  time.sleep(1)\n",
    "  scale.get_weight(timeout=0)"
   ]
  },
  {
   "cell_type": "code",
   "execution_count": 9,
   "metadata": {},
   "outputs": [
    {
     "data": {
      "text/plain": [
       "<coroutine object Scale.get_weight at 0x0000016B35FB50E0>"
      ]
     },
     "execution_count": 9,
     "metadata": {},
     "output_type": "execute_result"
    }
   ],
   "source": [
    "scale.get_weight(timeout=0)"
   ]
  },
  {
   "cell_type": "code",
   "execution_count": 8,
   "metadata": {},
   "outputs": [],
   "source": [
    "await scale.zero()\n"
   ]
  },
  {
   "cell_type": "code",
   "execution_count": 14,
   "metadata": {},
   "outputs": [
    {
     "ename": "MettlerToledoError",
     "evalue": "Command not understood, not executable at present: Command understood but currently not executable (balance is currently executing another command).",
     "output_type": "error",
     "traceback": [
      "\u001b[1;31m---------------------------------------------------------------------------\u001b[0m",
      "\u001b[1;31mMettlerToledoError\u001b[0m                        Traceback (most recent call last)",
      "Cell \u001b[1;32mIn[14], line 1\u001b[0m\n\u001b[1;32m----> 1\u001b[0m \u001b[38;5;28;01mawait\u001b[39;00m scale\u001b[38;5;241m.\u001b[39mtare()\n",
      "File \u001b[1;32m~\\OneDrive\\Dokumenter\\GitHub\\pylabrobot_DALSA\\pylabrobot\\scales\\scale.py:36\u001b[0m, in \u001b[0;36mScale.tare\u001b[1;34m(self, **backend_kwargs)\u001b[0m\n\u001b[0;32m     34\u001b[0m \u001b[38;5;28;01masync\u001b[39;00m \u001b[38;5;28;01mdef\u001b[39;00m \u001b[38;5;21mtare\u001b[39m(\u001b[38;5;28mself\u001b[39m, \u001b[38;5;241m*\u001b[39m\u001b[38;5;241m*\u001b[39mbackend_kwargs):\n\u001b[0;32m     35\u001b[0m \u001b[38;5;250m  \u001b[39m\u001b[38;5;124;03m\"\"\"Tare the scale\"\"\"\u001b[39;00m\n\u001b[1;32m---> 36\u001b[0m   \u001b[38;5;28;01mawait\u001b[39;00m \u001b[38;5;28mself\u001b[39m\u001b[38;5;241m.\u001b[39mbackend\u001b[38;5;241m.\u001b[39mtare(\u001b[38;5;241m*\u001b[39m\u001b[38;5;241m*\u001b[39mbackend_kwargs)\n",
      "File \u001b[1;32m~\\OneDrive\\Dokumenter\\GitHub\\pylabrobot_DALSA\\pylabrobot\\scales\\mettler_toledo.py:299\u001b[0m, in \u001b[0;36mMettlerToledoWXS205SDU.tare\u001b[1;34m(self, timeout)\u001b[0m\n\u001b[0;32m    295\u001b[0m   \u001b[38;5;28;01mraise\u001b[39;00m \u001b[38;5;167;01mRuntimeError\u001b[39;00m(\u001b[38;5;124m\"\u001b[39m\u001b[38;5;124mCall scale.setup() before sending commands.\u001b[39m\u001b[38;5;124m\"\u001b[39m)\n\u001b[0;32m    297\u001b[0m \u001b[38;5;28;01mif\u001b[39;00m timeout \u001b[38;5;241m==\u001b[39m \u001b[38;5;124m\"\u001b[39m\u001b[38;5;124mstable\u001b[39m\u001b[38;5;124m\"\u001b[39m:\n\u001b[0;32m    298\u001b[0m   \u001b[38;5;66;03m# \"Use T to tare the balance. The next stable weight value will be saved in the tare memory.\"\u001b[39;00m\n\u001b[1;32m--> 299\u001b[0m   \u001b[38;5;28;01mreturn\u001b[39;00m \u001b[38;5;28;01mawait\u001b[39;00m \u001b[38;5;28mself\u001b[39m\u001b[38;5;241m.\u001b[39mtare_stable()\n\u001b[0;32m    301\u001b[0m \u001b[38;5;28;01mif\u001b[39;00m \u001b[38;5;129;01mnot\u001b[39;00m \u001b[38;5;28misinstance\u001b[39m(timeout, (\u001b[38;5;28mfloat\u001b[39m, \u001b[38;5;28mint\u001b[39m)):\n\u001b[0;32m    302\u001b[0m   \u001b[38;5;28;01mraise\u001b[39;00m \u001b[38;5;167;01mTypeError\u001b[39;00m(\u001b[38;5;124m\"\u001b[39m\u001b[38;5;124mtimeout must be a float or \u001b[39m\u001b[38;5;124m'\u001b[39m\u001b[38;5;124mstable\u001b[39m\u001b[38;5;124m'\u001b[39m\u001b[38;5;124m\"\u001b[39m)\n",
      "File \u001b[1;32m~\\OneDrive\\Dokumenter\\GitHub\\pylabrobot_DALSA\\pylabrobot\\scales\\mettler_toledo.py:270\u001b[0m, in \u001b[0;36mMettlerToledoWXS205SDU.tare_stable\u001b[1;34m(self)\u001b[0m\n\u001b[0;32m    268\u001b[0m \u001b[38;5;28;01masync\u001b[39;00m \u001b[38;5;28;01mdef\u001b[39;00m \u001b[38;5;21mtare_stable\u001b[39m(\u001b[38;5;28mself\u001b[39m) \u001b[38;5;241m-\u001b[39m\u001b[38;5;241m>\u001b[39m MettlerToledoResponse:\n\u001b[0;32m    269\u001b[0m \u001b[38;5;250m  \u001b[39m\u001b[38;5;124;03m\"\"\"Tare the scale when the weight is stable.\"\"\"\u001b[39;00m\n\u001b[1;32m--> 270\u001b[0m   \u001b[38;5;28;01mreturn\u001b[39;00m \u001b[38;5;28;01mawait\u001b[39;00m \u001b[38;5;28mself\u001b[39m\u001b[38;5;241m.\u001b[39msend_command(\u001b[38;5;124m\"\u001b[39m\u001b[38;5;124mT\u001b[39m\u001b[38;5;124m\"\u001b[39m)\n",
      "File \u001b[1;32m~\\OneDrive\\Dokumenter\\GitHub\\pylabrobot_DALSA\\pylabrobot\\scales\\mettler_toledo.py:206\u001b[0m, in \u001b[0;36mMettlerToledoWXS205SDU.send_command\u001b[1;34m(self, command, timeout)\u001b[0m\n\u001b[0;32m    203\u001b[0m response \u001b[38;5;241m=\u001b[39m raw_response\u001b[38;5;241m.\u001b[39mdecode(\u001b[38;5;124m\"\u001b[39m\u001b[38;5;124mutf-8\u001b[39m\u001b[38;5;124m\"\u001b[39m)\u001b[38;5;241m.\u001b[39mstrip()\u001b[38;5;241m.\u001b[39msplit()\n\u001b[0;32m    205\u001b[0m \u001b[38;5;66;03m# parse basic errors\u001b[39;00m\n\u001b[1;32m--> 206\u001b[0m \u001b[38;5;28;43mself\u001b[39;49m\u001b[38;5;241;43m.\u001b[39;49m\u001b[43m_parse_basic_errors\u001b[49m\u001b[43m(\u001b[49m\u001b[43mresponse\u001b[49m\u001b[43m)\u001b[49m\n\u001b[0;32m    208\u001b[0m \u001b[38;5;66;03m# mypy doesn't understand this\u001b[39;00m\n\u001b[0;32m    209\u001b[0m \u001b[38;5;28;01mreturn\u001b[39;00m response\n",
      "File \u001b[1;32m~\\OneDrive\\Dokumenter\\GitHub\\pylabrobot_DALSA\\pylabrobot\\scales\\mettler_toledo.py:237\u001b[0m, in \u001b[0;36mMettlerToledoWXS205SDU._parse_basic_errors\u001b[1;34m(self, response)\u001b[0m\n\u001b[0;32m    234\u001b[0m   \u001b[38;5;28;01mraise\u001b[39;00m MettlerToledoError\u001b[38;5;241m.\u001b[39mlogical_error()\n\u001b[0;32m    236\u001b[0m \u001b[38;5;28;01mif\u001b[39;00m response[\u001b[38;5;241m1\u001b[39m] \u001b[38;5;241m==\u001b[39m \u001b[38;5;124m\"\u001b[39m\u001b[38;5;124mI\u001b[39m\u001b[38;5;124m\"\u001b[39m:\n\u001b[1;32m--> 237\u001b[0m   \u001b[38;5;28;01mraise\u001b[39;00m MettlerToledoError\u001b[38;5;241m.\u001b[39mexecuting_another_command()\n\u001b[0;32m    238\u001b[0m \u001b[38;5;28;01mif\u001b[39;00m response[\u001b[38;5;241m1\u001b[39m] \u001b[38;5;241m==\u001b[39m \u001b[38;5;124m\"\u001b[39m\u001b[38;5;124mP\u001b[39m\u001b[38;5;124m\"\u001b[39m:\n\u001b[0;32m    239\u001b[0m   \u001b[38;5;28;01mraise\u001b[39;00m MettlerToledoError\u001b[38;5;241m.\u001b[39mincorrect_parameter()\n",
      "\u001b[1;31mMettlerToledoError\u001b[0m: Command not understood, not executable at present: Command understood but currently not executable (balance is currently executing another command)."
     ]
    }
   ],
   "source": [
    "await scale.tare()"
   ]
  }
 ],
 "metadata": {
  "kernelspec": {
   "display_name": ".venv",
   "language": "python",
   "name": "python3"
  },
  "language_info": {
   "codemirror_mode": {
    "name": "ipython",
    "version": 3
   },
   "file_extension": ".py",
   "mimetype": "text/x-python",
   "name": "python",
   "nbconvert_exporter": "python",
   "pygments_lexer": "ipython3",
   "version": "3.11.9"
  }
 },
 "nbformat": 4,
 "nbformat_minor": 2
}
