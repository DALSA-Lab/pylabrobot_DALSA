{
 "cells": [
  {
   "cell_type": "markdown",
   "metadata": {},
   "source": []
  },
  {
   "cell_type": "markdown",
   "metadata": {},
   "source": [
    "# Settup Robot"
   ]
  },
  {
   "cell_type": "code",
   "execution_count": 1,
   "metadata": {},
   "outputs": [
    {
     "name": "stdout",
     "output_type": "stream",
     "text": [
      "Setting up the liquid handler.\n",
      "Resource deck was assigned to the liquid handler.\n",
      "Resource trash was assigned to the liquid handler.\n",
      "Resource trash_core96 was assigned to the liquid handler.\n",
      "Websocket server started at http://127.0.0.1:2121\n",
      "File server started at http://127.0.0.1:1337 . Open this URL in your browser.\n"
     ]
    }
   ],
   "source": [
    "# simulate = False\n",
    "simulate = True\n",
    "\n",
    "from pylabrobot.liquid_handling import LiquidHandler\n",
    "from pylabrobot.liquid_handling.backends import LiquidHandlerChatterboxBackend\n",
    "from pylabrobot.visualizer.visualizer import Visualizer\n",
    "from pylabrobot.liquid_handling.backends import STAR\n",
    "from pylabrobot.resources.hamilton import STARDeck\n",
    "from pylabrobot.resources.trash import Trash\n",
    "from pylabrobot.resources.carrier import Coordinate\n",
    "\n",
    "\n",
    "if simulate:\n",
    "  lh = LiquidHandler(backend=LiquidHandlerChatterboxBackend(), deck=STARDeck())\n",
    "  vis = Visualizer(resource=lh)\n",
    "else:\n",
    "  backend = STAR()\n",
    "  lh = LiquidHandler(backend=backend, deck=STARDeck())\n",
    "\n",
    "await lh.setup()\n",
    "\n",
    "\n",
    "\n",
    "if simulate:\n",
    "  await vis.setup()\n",
    "\n",
    "# labware resources:\n",
    "from pylabrobot.resources import (\n",
    "  PLT_CAR_L5AC_A00, # plate carrier\n",
    "  STF_L, # standard volume 300ul tips with filter\n",
    "  TIP_50ul_w_filter_L, # 50ul with filter landscape position\n",
    "  HT_L, # Rack with 96 1000ul High Volume Tip\n",
    "  corning_96_wellplate_360ul_flat, # OT plate type\n",
    "  Cos_96_FL # corning alternative to OT plate\n",
    ")\n",
    "\n",
    "## there are no tube runners in PLR yet.\n",
    "\n",
    "\n",
    "trash = lh.deck.get_trash_area() # only needed if trash needs to be used explicitly\n",
    "\n"
   ]
  },
  {
   "cell_type": "markdown",
   "metadata": {},
   "source": [
    "# Upload deck configuration for Star B223"
   ]
  },
  {
   "cell_type": "code",
   "execution_count": 2,
   "metadata": {},
   "outputs": [],
   "source": [
    "\n",
    "\n",
    "# USE direct path to directory\n",
    "import sys\n",
    "import os\n",
    "script_dir = os.path.abspath(\"docs/vilhelms_scripts\")\n",
    "\n",
    "# Add the directory to sys.path\n",
    "if script_dir not in sys.path:\n",
    "    sys.path.append(script_dir)\n",
    "\n",
    "# import deck specs for Hamilton in building 223 room 032\n",
    "from hamilton_star_B223 import CVS_Shaker_DTU, TIP_CAR_NTR_A00, MFX_CAR_DTU, RGT_CAR_3R_A01, RGT_CAR_5R_A00, COOLER\n",
    "\n"
   ]
  },
  {
   "cell_type": "code",
   "execution_count": 3,
   "metadata": {},
   "outputs": [],
   "source": [
    "shaker_carrier = CVS_Shaker_DTU(name='my_shaker_0')\n",
    "tip_car = TIP_CAR_NTR_A00(name='tip_carrier')\n",
    "tip_car_mfx = MFX_CAR_DTU(name='tip_carrier_mfx')\n",
    "plt_car1 = PLT_CAR_L5AC_A00(name='PLT_CAR_L5AC_1')\n",
    "plt_car2 = PLT_CAR_L5AC_A00(name='PLT_CAR_L5AC_2')\n",
    "reservar_carrier1 = RGT_CAR_3R_A01(name='reservar_1')\n",
    "reservar_carrier2 = RGT_CAR_3R_A01(name='reservar_2')\n",
    "reservar_carrier3 = RGT_CAR_3R_A01(name='reservar_3_R5')\n",
    "cooler_carrier1 = COOLER(name='cooler_1')\n",
    "cooler_carrier2 = COOLER(name='cooler_2')\n"
   ]
  },
  {
   "cell_type": "markdown",
   "metadata": {},
   "source": [
    "# Add labware"
   ]
  },
  {
   "cell_type": "code",
   "execution_count": 4,
   "metadata": {},
   "outputs": [],
   "source": [
    "\n",
    "tip_car[0] = TIP_50ul_w_filter_L(name='tips_01_50ul') # for TIP_CAR_480_A00\n",
    "tip_car[1] = TIP_50ul_w_filter_L(name='tips_02_50ul') # for TIP_CAR_480_A00\n",
    "tip_car[2] = TIP_50ul_w_filter_L(name='tips_03_50ul') # for TIP_CAR_480_A00\n",
    "\n",
    "tip_car_mfx[0] = STF_L(name='tips_01_300ul') # for MFX\n",
    "tip_car_mfx[1] = STF_L(name='tips_02_300ul') # for MFX\n",
    "tip_car_mfx[2] = HT_L(name='tips_01_1000ul') # for MFX\n",
    "tip_car_mfx[3] = HT_L(name='tips_02_1000ul') # for MFX\n",
    "tip_car_mfx[4] = HT_L(name='tips_03_1000ul') # for MFX\n",
    "\n",
    "\n",
    "## Test on cooler\n",
    "# cooler_carrier1[1] = Cos_96_FL(name='source_1')\n",
    "# cooler_carrier1[2] = Cos_96_FL(name='source_2')\n",
    "# cooler_carrier1[3] = Cos_96_FL(name='source_3')\n",
    "# cooler_carrier1[4] = Cos_96_FL(name='source_4')\n",
    "# cooler_carrier2[4] = Cos_96_FL(name='dist1')\n",
    "\n",
    "cooler_carrier1[3] = corning_96_wellplate_360ul_flat(name='source_3')\n",
    "cooler_carrier1[4] = corning_96_wellplate_360ul_flat(name='source_4')\n",
    "cooler_carrier2[4] = corning_96_wellplate_360ul_flat(name='dist1')"
   ]
  },
  {
   "cell_type": "code",
   "execution_count": 5,
   "metadata": {},
   "outputs": [],
   "source": [
    "## Test on shaker:\n",
    "shaker_carrier[1] = corning_96_wellplate_360ul_flat(name='source_1')\n",
    "shaker_carrier[0] = corning_96_wellplate_360ul_flat(name='source_2')\n"
   ]
  },
  {
   "cell_type": "markdown",
   "metadata": {},
   "source": [
    "# Place labware and Carriers"
   ]
  },
  {
   "cell_type": "code",
   "execution_count": 6,
   "metadata": {},
   "outputs": [
    {
     "name": "stdout",
     "output_type": "stream",
     "text": [
      "Resource my_shaker_0 was assigned to the liquid handler.\n",
      "Resource tip_carrier was assigned to the liquid handler.\n",
      "Resource PLT_CAR_L5AC_1 was assigned to the liquid handler.\n",
      "Resource PLT_CAR_L5AC_2 was assigned to the liquid handler.\n",
      "Resource tip_carrier_mfx was assigned to the liquid handler.\n",
      "Resource reservar_1 was assigned to the liquid handler.\n",
      "Resource reservar_2 was assigned to the liquid handler.\n",
      "Resource reservar_3_R5 was assigned to the liquid handler.\n",
      "Resource cooler_1 was assigned to the liquid handler.\n",
      "Resource cooler_2 was assigned to the liquid handler.\n"
     ]
    }
   ],
   "source": [
    "location_shaker = Coordinate(x=77.5, y=63.0, z=100.0)\n",
    "lh.deck.assign_child_resource(shaker_carrier, rails=None, location=location_shaker, reassign=True)\n",
    "lh.deck.assign_child_resource(tip_car, rails=17) # old pos 7\n",
    "lh.deck.assign_child_resource(plt_car1, rails=31) # old pos 27\n",
    "lh.deck.assign_child_resource(plt_car2, rails=37) # old pos 33\n",
    "lh.deck.assign_child_resource(tip_car_mfx, rails=11, reassign=True) # old pos 13\n",
    "lh.deck.assign_child_resource(reservar_carrier1, rails=23, reassign=True) # old pos 19\n",
    "lh.deck.assign_child_resource(reservar_carrier2, rails=24, reassign=True) # old pos 20\n",
    "lh.deck.assign_child_resource(reservar_carrier3, rails=25, reassign=True) # old pos 21\n",
    "lh.deck.assign_child_resource(cooler_carrier1, rails=43, reassign=True) # old pos 43\n",
    "lh.deck.assign_child_resource(cooler_carrier2, rails=49, reassign=True) # old pos 49"
   ]
  },
  {
   "cell_type": "code",
   "execution_count": 7,
   "metadata": {},
   "outputs": [],
   "source": [
    "tiprack50_1 = lh.get_resource(\"tips_01_50ul\")\n",
    "tiprack50_2 = lh.get_resource(\"tips_02_50ul\")\n",
    "tiprack50_3 = lh.get_resource(\"tips_03_50ul\")\n",
    "\n",
    "tiprack300_1 = lh.get_resource(\"tips_01_300ul\")\n",
    "tiprack300_2 = lh.get_resource(\"tips_02_300ul\")\n",
    "tiprack1000_1 = lh.get_resource(\"tips_01_1000ul\")\n",
    "tiprack1000_2 = lh.get_resource(\"tips_02_1000ul\")\n",
    "tiprack1000_3 = lh.get_resource(\"tips_03_1000ul\")\n",
    "\n",
    "source1 = lh.get_resource('source_1')\n",
    "source2 = lh.get_resource('source_2')\n",
    "source3 = lh.get_resource('source_3')\n",
    "source4 = lh.get_resource('source_4')\n",
    "dist1 = lh.get_resource('dist1')"
   ]
  },
  {
   "cell_type": "markdown",
   "metadata": {},
   "source": [
    "# Liquid handling commands"
   ]
  },
  {
   "cell_type": "code",
   "execution_count": 8,
   "metadata": {},
   "outputs": [
    {
     "name": "stdout",
     "output_type": "stream",
     "text": [
      "Picking up tips:\n",
      "pip#  resource             offset           tip type     max volume (µL)  fitting depth (mm)   tip length (mm)  filter    \n",
      "  p0: tips_01_300ul_tipspot_7_0 0,0,0            HamiltonTip  360              8                    59.9             Yes       \n"
     ]
    }
   ],
   "source": [
    "\n",
    "offset = [Coordinate(0, 0, 0)] # was -26 #was z=45 was z=70 this works for 50ul tips on TIP_CAR_NTR_A00\n",
    "\n",
    "\n",
    "# await lh.pick_up_tips(tiprack300_1[\"A8\"], use_channels=[0]) # for one channel. if specific channels then use_channels = [0,1,3]\n",
    "await lh.pick_up_tips(tiprack300_1[\"A8\"], use_channels=[0], offsets=offset)\n",
    "# await lh.pick_up_tips(tiprack300_2[\"A7:H7\"],  offsets=offset) # for all channels\n"
   ]
  },
  {
   "cell_type": "code",
   "execution_count": 9,
   "metadata": {},
   "outputs": [],
   "source": [
    "offset = [Coordinate(0, 0, 0)] #2\n",
    "\n",
    "# await lh.aspirate(source1[\"A1\"], vols=[20.0], offsets=offset) # , swap_speed=100, homogenization_speed=1000\n",
    "\n"
   ]
  },
  {
   "cell_type": "code",
   "execution_count": 10,
   "metadata": {},
   "outputs": [],
   "source": [
    "# await lh.dispense(dist1[\"A1\"], vols=[20.0]) # swap_speed=100, homogenization_speed=1000, mix_speed=1000\n",
    "\n",
    "# await lh.dispense(source2[\"A1\"], vols=[20.0], offsets=offset) # swap_speed=100, homogenization_speed=1000, mix_speed=1000"
   ]
  },
  {
   "cell_type": "code",
   "execution_count": 11,
   "metadata": {},
   "outputs": [
    {
     "name": "stdout",
     "output_type": "stream",
     "text": [
      "Dropping tips:\n",
      "pip#  resource             offset           tip type     max volume (µL)  fitting depth (mm)   tip length (mm)  filter    \n",
      "  p0: trash                0,0.0,0          HamiltonTip  360              8                    59.9             Yes       \n"
     ]
    }
   ],
   "source": [
    "# await lh.drop_tips(tiprack1000_1[\"A1\"], use_channels=[0], offsets=offset)\n",
    "# await lh.drop_tips(tiprack1000_1[\"A1\"], use_channels=[0])\n",
    "\n",
    "# await lh.drop_tips(tiprack300_2[\"G1:H1\"], use_channels=[0,1], offsets=offset)\n",
    "# await lh.drop_tips(tip_spots=[trash]*1)\n",
    "\n",
    "# offset = Coordinate(0, 210, 0)\n",
    "# offset = Coordinate(0, 0, 0)\n",
    "\n",
    "# await lh.drop_tips(tip_spots=[trash]*2, use_channels=[0,1], offsets=offset)\n",
    "\n",
    "\n",
    "await lh.discard_tips() # THROUGHS TIPS INTO THE TRASH!!!\n",
    "# await lh.drop_tips(tip_spots=[trash])\n"
   ]
  },
  {
   "cell_type": "code",
   "execution_count": null,
   "metadata": {},
   "outputs": [],
   "source": []
  },
  {
   "cell_type": "code",
   "execution_count": 12,
   "metadata": {},
   "outputs": [],
   "source": [
    "## HOW TO MOVE PLATES\n",
    "\n",
    "# from pylabrobot.liquid_handling.standard import (\n",
    "#   GripDirection\n",
    "# )\n",
    "# await lh.move_plate(source1, cooler_carrier2[1], get_direction=GripDirection.LEFT, put_direction=GripDirection.LEFT)"
   ]
  },
  {
   "cell_type": "markdown",
   "metadata": {},
   "source": [
    "# Husk\n",
    "\n",
    "Det lave tal er forrest. på carriers. Så nul er tættest på døren og max tal er tættes på ryggen af roboten. \n",
    "\n",
    "Channels: Teller fra inderste mod døren. channel1 hedder channel=[0]\n",
    "\n",
    "HUSK du har ikke sat noget op til nestet tips!!!\n",
    "\n",
    "- [ ] Ikke testet reservars <br>\n",
    "\n",
    "- [X] ikke testet positioner for SHAKER! <br>\n",
    "- [X] Does trash work?? -> yes with discard_tips commmand <br>\n",
    "\n",
    "- [X] Test robot arm flytter plader"
   ]
  },
  {
   "cell_type": "markdown",
   "metadata": {},
   "source": []
  }
 ],
 "metadata": {
  "kernelspec": {
   "display_name": ".venv",
   "language": "python",
   "name": "python3"
  },
  "language_info": {
   "codemirror_mode": {
    "name": "ipython",
    "version": 3
   },
   "file_extension": ".py",
   "mimetype": "text/x-python",
   "name": "python",
   "nbconvert_exporter": "python",
   "pygments_lexer": "ipython3",
   "version": "3.11.9"
  }
 },
 "nbformat": 4,
 "nbformat_minor": 2
}
