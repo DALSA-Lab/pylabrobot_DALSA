{
 "cells": [
  {
   "cell_type": "markdown",
   "metadata": {},
   "source": [
    "# Settup Robot"
   ]
  },
  {
   "cell_type": "code",
   "execution_count": 1,
   "metadata": {},
   "outputs": [
    {
     "name": "stdout",
     "output_type": "stream",
     "text": [
      "Setting up the liquid handler.\n",
      "Resource deck was assigned to the liquid handler.\n",
      "Resource wash_station was assigned to the liquid handler.\n"
     ]
    }
   ],
   "source": [
    "# simulate = False\n",
    "simulate = True\n",
    "\n",
    "from pylabrobot.liquid_handling import LiquidHandler\n",
    "from pylabrobot.liquid_handling.backends import LiquidHandlerChatterboxBackend\n",
    "from pylabrobot.visualizer.visualizer import Visualizer\n",
    "# from pylabrobot.liquid_handling.backends import STAR\n",
    "# from pylabrobot.resources.hamilton import STARDeck\n",
    "## below incerted for TECAN\n",
    "from pylabrobot.liquid_handling.backends import EVO\n",
    "from pylabrobot.resources.tecan import EVO200Deck\n",
    "\n",
    "## Below unkown importance ??\n",
    "from pylabrobot.resources.trash import Trash\n",
    "from pylabrobot.resources.carrier import Coordinate\n",
    "\n",
    "\n",
    "\n",
    "if simulate:\n",
    "  lh = LiquidHandler(backend=LiquidHandlerChatterboxBackend(), deck=EVO200Deck())\n",
    "  vis = Visualizer(resource=lh)\n",
    "else:\n",
    "  backend = EVO()\n",
    "  lh = LiquidHandler(backend=backend, deck=EVO200Deck())\n",
    "\n",
    "await lh.setup()\n",
    "\n",
    "\n",
    "\n"
   ]
  },
  {
   "cell_type": "code",
   "execution_count": 2,
   "metadata": {},
   "outputs": [
    {
     "name": "stdout",
     "output_type": "stream",
     "text": [
      "Websocket server started at http://127.0.0.1:2121\n",
      "File server started at http://127.0.0.1:1337 . Open this URL in your browser.\n"
     ]
    }
   ],
   "source": [
    "\n",
    "if simulate:\n",
    "  await vis.setup()\n",
    "\n"
   ]
  },
  {
   "cell_type": "code",
   "execution_count": 7,
   "metadata": {},
   "outputs": [],
   "source": [
    "\n",
    "# labware resources:\n",
    "from pylabrobot.resources import (\n",
    "  Wash_Station, # wash station\n",
    "  Wash_Station_Cleaner_shallow, # labware on pos 1 on shash station\n",
    "  Wash_Station_Waste, # labware on pos 2\n",
    "  Wash_Station_Cleaner_shallow, # labware on pos 3 on shash station\n",
    "  MP_3Pos,\n",
    "  MP_3Pos_Flat,\n",
    "  MP_4Pos,\n",
    "  # STF_L, # standard volume 300ul tips with filter\n",
    "  corning_96_wellplate_360ul_flat, # OT plate type\n",
    "  Cos_96_FL, # corning alternative to OT plate\n",
    "\n",
    "  DiTi_1000ul_SBS_LiHa, # test tips\n",
    ")\n",
    "\n",
    "## there are no tube runners in PLR yet.\n",
    "\n",
    "# TO ADD\n",
    "# - reservours\n",
    "# - Trash\n",
    "# - Hotels\n",
    "# - hotel trash cooler thing\n",
    "\n",
    "\n",
    "# trash = lh.deck.get_trash_area() # only needed if trash needs to be used explicitly\n"
   ]
  },
  {
   "cell_type": "markdown",
   "metadata": {},
   "source": [
    "# Upload deck configuration for EVO B223"
   ]
  },
  {
   "cell_type": "code",
   "execution_count": 4,
   "metadata": {},
   "outputs": [],
   "source": [
    "# # USE direct path to directory\n",
    "# import sys\n",
    "# import os\n",
    "# script_dir = os.path.abspath(\"docs/vilhelms_scripts\")\n",
    "\n",
    "# # Add the directory to sys.path\n",
    "# if script_dir not in sys.path:\n",
    "#     sys.path.append(script_dir)\n",
    "\n",
    "# # import deck specs for Hamilton in building 223 room 032\n",
    "# from tecan_evo_B223 import ...."
   ]
  },
  {
   "cell_type": "code",
   "execution_count": 5,
   "metadata": {},
   "outputs": [],
   "source": [
    "wash_station = Wash_Station(name='wash_station')\n",
    "mp_3pos_1 = MP_3Pos(name='mp_3pos_1')\n",
    "mp_3pos_2 = MP_3Pos(name='mp_3pos_2')\n",
    "mp_3pos_3 = MP_3Pos(name='mp_3pos_3')\n",
    "mp_3pos_4 = MP_3Pos(name='mp_3pos_4')\n",
    "\n",
    "mp3_pos_flat = MP_3Pos_Flat(name='mp3_pos_flat') # this is a dummy to test if i can find a match in the PLR carrier list\n",
    "\n",
    "mp_4pos_1 = MP_4Pos(name='mp_4pos_1')\n",
    "mp_4pos_2 = MP_4Pos(name='mp_4pos_2')\n",
    "mp_4pos_3 = MP_4Pos(name='mp_4pos_3')\n",
    "\n"
   ]
  },
  {
   "cell_type": "markdown",
   "metadata": {},
   "source": [
    "# Add Labware"
   ]
  },
  {
   "cell_type": "code",
   "execution_count": 6,
   "metadata": {},
   "outputs": [],
   "source": [
    "# tip_car[0] = TIP_50ul_w_filter_L(name='tips_01_50ul') # for TIP_CAR_480_A00\n",
    "# tip_car[1] = TIP_50ul_w_filter_L(name='tips_02_50ul') # for TIP_CAR_480_A00\n",
    "# tip_car[2] = TIP_50ul_w_filter_L(name='tips_03_50ul') # for TIP_CAR_480_A00\n",
    "\n",
    "# tip_car_mfx[0] = STF_L(name='tips_01_300ul') # for MFX\n",
    "# tip_car_mfx[1] = STF_L(name='tips_02_300ul') # for MFX\n",
    "# tip_car_mfx[2] = HT_L(name='tips_01_1000ul') # for MFX\n",
    "# tip_car_mfx[3] = HT_L(name='tips_02_1000ul') # for MFX\n",
    "# tip_car_mfx[4] = HT_L(name='tips_03_1000ul') # for MFX\n",
    "\n",
    "\n",
    "# ## Test on cooler\n",
    "# # cooler_carrier1[1] = Cos_96_FL(name='source_1')\n",
    "# # cooler_carrier1[2] = Cos_96_FL(name='source_2')\n",
    "# # cooler_carrier1[3] = Cos_96_FL(name='source_3')\n",
    "# # cooler_carrier1[4] = Cos_96_FL(name='source_4')\n",
    "# # cooler_carrier2[4] = Cos_96_FL(name='dist1')\n",
    "\n",
    "# cooler_carrier1[3] = corning_96_wellplate_360ul_flat(name='source_3')\n",
    "# cooler_carrier1[4] = corning_96_wellplate_360ul_flat(name='source_4')\n",
    "# cooler_carrier2[4] = corning_96_wellplate_360ul_flat(name='dist1')\n",
    "\n",
    "# ## Test on shaker:\n",
    "mp_3pos_1[1] = corning_96_wellplate_360ul_flat(name='source_1')\n",
    "# shaker_carrier[0] = corning_96_wellplate_360ul_flat(name='source_2')"
   ]
  },
  {
   "cell_type": "code",
   "execution_count": 8,
   "metadata": {},
   "outputs": [
    {
     "ename": "TypeError",
     "evalue": "PlateCarrierSite can only store Plate, PlateAdapter or ResourceStack resources, not <class 'pylabrobot.resources.tecan.tip_racks.TecanTipRack'>",
     "output_type": "error",
     "traceback": [
      "\u001b[1;31m---------------------------------------------------------------------------\u001b[0m",
      "\u001b[1;31mTypeError\u001b[0m                                 Traceback (most recent call last)",
      "Cell \u001b[1;32mIn[8], line 2\u001b[0m\n\u001b[0;32m      1\u001b[0m \u001b[38;5;66;03m# mp3_pos_flat[0] = DiTi_1000ul_SBS_LiHa(name='tips_01_300ul') \u001b[39;00m\n\u001b[1;32m----> 2\u001b[0m \u001b[43mmp_4pos_1\u001b[49m\u001b[43m[\u001b[49m\u001b[38;5;241;43m0\u001b[39;49m\u001b[43m]\u001b[49m \u001b[38;5;241m=\u001b[39m DiTi_1000ul_SBS_LiHa(name\u001b[38;5;241m=\u001b[39m\u001b[38;5;124m'\u001b[39m\u001b[38;5;124mtips_01_300ul\u001b[39m\u001b[38;5;124m'\u001b[39m) \n",
      "File \u001b[1;32m~\\Documents\\GitHub\\pylabrobot_DALSA\\pylabrobot\\resources\\carrier.py:180\u001b[0m, in \u001b[0;36mCarrier.__setitem__\u001b[1;34m(self, idx, resource)\u001b[0m\n\u001b[0;32m    178\u001b[0m     \u001b[38;5;28mself\u001b[39m\u001b[38;5;241m.\u001b[39munassign_child_resource(\u001b[38;5;28mself\u001b[39m[idx]\u001b[38;5;241m.\u001b[39mresource)\n\u001b[0;32m    179\u001b[0m \u001b[38;5;28;01melse\u001b[39;00m:\n\u001b[1;32m--> 180\u001b[0m   \u001b[38;5;28;43mself\u001b[39;49m\u001b[38;5;241;43m.\u001b[39;49m\u001b[43massign_resource_to_site\u001b[49m\u001b[43m(\u001b[49m\u001b[43mresource\u001b[49m\u001b[43m,\u001b[49m\u001b[43m \u001b[49m\u001b[43mspot\u001b[49m\u001b[38;5;241;43m=\u001b[39;49m\u001b[43midx\u001b[49m\u001b[43m)\u001b[49m\n",
      "File \u001b[1;32m~\\Documents\\GitHub\\pylabrobot_DALSA\\pylabrobot\\resources\\carrier.py:151\u001b[0m, in \u001b[0;36mCarrier.assign_resource_to_site\u001b[1;34m(self, resource, spot)\u001b[0m\n\u001b[0;32m    149\u001b[0m \u001b[38;5;28;01mif\u001b[39;00m \u001b[38;5;28mself\u001b[39m\u001b[38;5;241m.\u001b[39msites[spot]\u001b[38;5;241m.\u001b[39mresource \u001b[38;5;129;01mis\u001b[39;00m \u001b[38;5;129;01mnot\u001b[39;00m \u001b[38;5;28;01mNone\u001b[39;00m:\n\u001b[0;32m    150\u001b[0m   \u001b[38;5;28;01mraise\u001b[39;00m \u001b[38;5;167;01mValueError\u001b[39;00m(\u001b[38;5;124mf\u001b[39m\u001b[38;5;124m\"\u001b[39m\u001b[38;5;124mspot \u001b[39m\u001b[38;5;132;01m{\u001b[39;00mspot\u001b[38;5;132;01m}\u001b[39;00m\u001b[38;5;124m already has a resource\u001b[39m\u001b[38;5;124m\"\u001b[39m)\n\u001b[1;32m--> 151\u001b[0m \u001b[38;5;28;43mself\u001b[39;49m\u001b[38;5;241;43m.\u001b[39;49m\u001b[43msites\u001b[49m\u001b[43m[\u001b[49m\u001b[43mspot\u001b[49m\u001b[43m]\u001b[49m\u001b[38;5;241;43m.\u001b[39;49m\u001b[43massign_child_resource\u001b[49m\u001b[43m(\u001b[49m\u001b[43mresource\u001b[49m\u001b[43m)\u001b[49m\n",
      "File \u001b[1;32m~\\Documents\\GitHub\\pylabrobot_DALSA\\pylabrobot\\resources\\carrier.py:264\u001b[0m, in \u001b[0;36mPlateCarrierSite.assign_child_resource\u001b[1;34m(self, resource, location, reassign)\u001b[0m\n\u001b[0;32m    259\u001b[0m     \u001b[38;5;28;01mraise\u001b[39;00m \u001b[38;5;167;01mTypeError\u001b[39;00m(\n\u001b[0;32m    260\u001b[0m       \u001b[38;5;124m\"\u001b[39m\u001b[38;5;124mIf a ResourceStack is assigned to a PlateCarrierSite, the items \u001b[39m\u001b[38;5;124m\"\u001b[39m\n\u001b[0;32m    261\u001b[0m       \u001b[38;5;241m+\u001b[39m \u001b[38;5;124mf\u001b[39m\u001b[38;5;124m\"\u001b[39m\u001b[38;5;124mmust be Plates, not \u001b[39m\u001b[38;5;132;01m{\u001b[39;00m\u001b[38;5;28mtype\u001b[39m(resource\u001b[38;5;241m.\u001b[39mchildren[\u001b[38;5;241m-\u001b[39m\u001b[38;5;241m1\u001b[39m])\u001b[38;5;132;01m}\u001b[39;00m\u001b[38;5;124m\"\u001b[39m\n\u001b[0;32m    262\u001b[0m     )\n\u001b[0;32m    263\u001b[0m \u001b[38;5;28;01melif\u001b[39;00m \u001b[38;5;129;01mnot\u001b[39;00m \u001b[38;5;28misinstance\u001b[39m(resource, (Plate, PlateAdapter)):\n\u001b[1;32m--> 264\u001b[0m   \u001b[38;5;28;01mraise\u001b[39;00m \u001b[38;5;167;01mTypeError\u001b[39;00m(\n\u001b[0;32m    265\u001b[0m     \u001b[38;5;124m\"\u001b[39m\u001b[38;5;124mPlateCarrierSite can only store Plate, PlateAdapter or ResourceStack \u001b[39m\u001b[38;5;124m\"\u001b[39m\n\u001b[0;32m    266\u001b[0m     \u001b[38;5;241m+\u001b[39m \u001b[38;5;124mf\u001b[39m\u001b[38;5;124m\"\u001b[39m\u001b[38;5;124mresources, not \u001b[39m\u001b[38;5;132;01m{\u001b[39;00m\u001b[38;5;28mtype\u001b[39m(resource)\u001b[38;5;132;01m}\u001b[39;00m\u001b[38;5;124m\"\u001b[39m\n\u001b[0;32m    267\u001b[0m   )\n\u001b[0;32m    268\u001b[0m \u001b[38;5;28;01mreturn\u001b[39;00m \u001b[38;5;28msuper\u001b[39m()\u001b[38;5;241m.\u001b[39massign_child_resource(resource, location, reassign)\n",
      "\u001b[1;31mTypeError\u001b[0m: PlateCarrierSite can only store Plate, PlateAdapter or ResourceStack resources, not <class 'pylabrobot.resources.tecan.tip_racks.TecanTipRack'>"
     ]
    }
   ],
   "source": [
    "# mp3_pos_flat[0] = DiTi_1000ul_SBS_LiHa(name='tips_01_300ul')\n",
    "mp_4pos_1[0] = DiTi_1000ul_SBS_LiHa(name='tips_01_300ul')"
   ]
  }
 ],
 "metadata": {
  "kernelspec": {
   "display_name": ".venv",
   "language": "python",
   "name": "python3"
  },
  "language_info": {
   "codemirror_mode": {
    "name": "ipython",
    "version": 3
   },
   "file_extension": ".py",
   "mimetype": "text/x-python",
   "name": "python",
   "nbconvert_exporter": "python",
   "pygments_lexer": "ipython3",
   "version": "3.10.1"
  }
 },
 "nbformat": 4,
 "nbformat_minor": 2
}
